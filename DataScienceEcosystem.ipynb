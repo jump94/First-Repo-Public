{
 "cells": [
  {
   "cell_type": "markdown",
   "id": "b1e6555d-af5d-4b16-8d58-0e5a58bb46cb",
   "metadata": {},
   "source": [
    "# Data Science Tools and Ecosystem"
   ]
  },
  {
   "cell_type": "markdown",
   "id": "4b7e6691-ac50-45d0-9cab-857493ec3df6",
   "metadata": {},
   "source": [
    "In this notebook, Data Science Tools and Ecosystem are summarized."
   ]
  },
  {
   "cell_type": "markdown",
   "id": "c3488618-5d7e-403c-95f8-48d482528cc7",
   "metadata": {},
   "source": [
    "Some of the popular languages that Data Scientists use are:\n",
    "1. Python\n",
    "2. R\n",
    "3. Julia"
   ]
  },
  {
   "cell_type": "markdown",
   "id": "f1cbb45e-0723-4912-a4df-7531b8c6cc9b",
   "metadata": {},
   "source": [
    "Some of the commonly used libraries used by Data Scientists include:\n",
    "1. ggplot\n",
    "2. GGally\n",
    "3. caret"
   ]
  },
  {
   "cell_type": "markdown",
   "id": "fc70c04f-e6a3-4944-b073-f4e449f3c3ad",
   "metadata": {},
   "source": [
    "|Data Science Tools|\n",
    "|-|\n",
    "|JupyterLab|\n",
    "|RStudio|\n",
    "|Pycharm|"
   ]
  },
  {
   "cell_type": "markdown",
   "id": "1af96b72-6ba1-4766-a8d1-b4dfc6f7be4d",
   "metadata": {},
   "source": [
    "### Below are a few examples of evaluating arithmetic expressions in Python."
   ]
  },
  {
   "cell_type": "code",
   "execution_count": 15,
   "id": "adf0e9de-8c24-41e5-b556-40ce1d70d311",
   "metadata": {},
   "outputs": [
    {
     "data": {
      "text/plain": [
       "17"
      ]
     },
     "execution_count": 15,
     "metadata": {},
     "output_type": "execute_result"
    }
   ],
   "source": [
    "#This a simple arithmetic expression to mutiply then add integers.\n",
    "(3*4)+5"
   ]
  },
  {
   "cell_type": "code",
   "execution_count": 17,
   "id": "4fb94f50-c4ca-4cf4-a9a8-a50d60654894",
   "metadata": {},
   "outputs": [
    {
     "data": {
      "text/plain": [
       "3.3333333333333335"
      ]
     },
     "execution_count": 17,
     "metadata": {},
     "output_type": "execute_result"
    }
   ],
   "source": [
    "#This will convert 200 minutes to hours by diving by 60.\n",
    "200/60"
   ]
  },
  {
   "cell_type": "markdown",
   "id": "0f38efc4-49ad-4c41-89d6-5791bbfaa1eb",
   "metadata": {},
   "source": [
    "**Objectives:**\n",
    "* List commonly used libraries for data science\n",
    "* List open-source tools for data science\n",
    "* Show examples of arithmetic expressions in Python"
   ]
  },
  {
   "cell_type": "markdown",
   "id": "424b8aad-513b-4608-9fa5-43ed3cd65ea8",
   "metadata": {},
   "source": [
    "## Author\n",
    "Jennifer"
   ]
  },
  {
   "cell_type": "code",
   "execution_count": null,
   "id": "adf14bea-07d1-4952-96e1-7290f7391e55",
   "metadata": {},
   "outputs": [],
   "source": []
  }
 ],
 "metadata": {
  "kernelspec": {
   "display_name": "Python [conda env:base] *",
   "language": "python",
   "name": "conda-base-py"
  },
  "language_info": {
   "codemirror_mode": {
    "name": "ipython",
    "version": 3
   },
   "file_extension": ".py",
   "mimetype": "text/x-python",
   "name": "python",
   "nbconvert_exporter": "python",
   "pygments_lexer": "ipython3",
   "version": "3.12.7"
  }
 },
 "nbformat": 4,
 "nbformat_minor": 5
}
